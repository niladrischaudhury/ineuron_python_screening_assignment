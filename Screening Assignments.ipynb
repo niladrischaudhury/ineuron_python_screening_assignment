{
 "cells": [
  {
   "cell_type": "code",
   "execution_count": 1,
   "id": "ddeb6b23",
   "metadata": {},
   "outputs": [],
   "source": [
    "import numpy as np\n",
    "import pandas as pd"
   ]
  },
  {
   "cell_type": "code",
   "execution_count": 2,
   "id": "87217a27",
   "metadata": {},
   "outputs": [],
   "source": [
    "input = open(\"example.txt\", \"rt\")"
   ]
  },
  {
   "cell_type": "code",
   "execution_count": 3,
   "id": "79be1e72",
   "metadata": {},
   "outputs": [],
   "source": [
    "output = open(\"replaced_text.txt\", \"wt\")"
   ]
  },
  {
   "cell_type": "code",
   "execution_count": 4,
   "id": "0550e018",
   "metadata": {},
   "outputs": [],
   "source": [
    "for line in input:\n",
    "    output.write((line.replace(\"placement\", \"screening\")))"
   ]
  },
  {
   "cell_type": "code",
   "execution_count": 5,
   "id": "8c72f2d7",
   "metadata": {},
   "outputs": [],
   "source": [
    "input.close()\n",
    "output.close()"
   ]
  },
  {
   "cell_type": "markdown",
   "id": "95ee71fa",
   "metadata": {},
   "source": [
    "### Abstract class"
   ]
  },
  {
   "cell_type": "markdown",
   "id": "ab12c668",
   "metadata": {},
   "source": [
    "##### Any class which contains atleast one abstract method is called Abstract Class. Abstract method is such a method which has only segnature, but no implementation is provided. We cann't create an object of an Abstract Class. Any class which implements the Abstract class, needs to provide the implementation of the abstract method. \n",
    "\n",
    "##### Abstract class provide an way to define the method at the higher level, where details implementation will be followed by the implementing classes"
   ]
  },
  {
   "cell_type": "code",
   "execution_count": 6,
   "id": "7df5de1a",
   "metadata": {},
   "outputs": [],
   "source": [
    "from abc import ABC, abstractmethod"
   ]
  },
  {
   "cell_type": "code",
   "execution_count": 7,
   "id": "74d265cc",
   "metadata": {},
   "outputs": [],
   "source": [
    "class Figure(ABC):\n",
    "    @abstractmethod\n",
    "    def area(self):\n",
    "        pass"
   ]
  },
  {
   "cell_type": "code",
   "execution_count": 8,
   "id": "321055c6",
   "metadata": {},
   "outputs": [],
   "source": [
    "class Triangle(Figure):\n",
    "    def __init__(self, base, height):\n",
    "        self.base = base\n",
    "        self.height = height\n",
    "    \n",
    "    # Override abstract method\n",
    "    def area(self):\n",
    "        return (0.5 * self.base * self.height)        "
   ]
  },
  {
   "cell_type": "code",
   "execution_count": 9,
   "id": "10b0a5d7",
   "metadata": {},
   "outputs": [],
   "source": [
    "class Circle(Figure):\n",
    "    def __init__(self, radius):\n",
    "        self.radius = radius\n",
    "    \n",
    "    def area(self):\n",
    "        return 3.14 * self.radius * self.radius        "
   ]
  },
  {
   "cell_type": "code",
   "execution_count": 10,
   "id": "614e9460",
   "metadata": {},
   "outputs": [],
   "source": [
    "t = Triangle(10,20)\n",
    "c = Circle(10)"
   ]
  },
  {
   "cell_type": "code",
   "execution_count": 11,
   "id": "38324b2b",
   "metadata": {},
   "outputs": [
    {
     "name": "stdout",
     "output_type": "stream",
     "text": [
      "Area of a Triangle: 100.0\n",
      "Area of a Circle: 314.0\n"
     ]
    }
   ],
   "source": [
    "print('Area of a Triangle:', t.area())\n",
    "print('Area of a Circle:', c.area())"
   ]
  },
  {
   "cell_type": "markdown",
   "id": "13f9ebdb",
   "metadata": {},
   "source": [
    "### Multiple inheritance"
   ]
  },
  {
   "cell_type": "markdown",
   "id": "ecb7bacf",
   "metadata": {},
   "source": [
    "##### When a Class is derived from more than one base class, it is called Multiple Inheritance. The child class inherits all feature of all base classes. Multiple Inheritance is used when we need to implement different feature of different classes into one child class we implement all the classes."
   ]
  },
  {
   "cell_type": "code",
   "execution_count": 23,
   "id": "b4bc96d1",
   "metadata": {},
   "outputs": [],
   "source": [
    "# Base Class 1\n",
    "class Distance:        \n",
    "    def km_to_mile(self, km):\n",
    "        return (km * 0.621371)\n",
    "    \n",
    "    def mi_to_km(self, mi):\n",
    "        return (mi * 1.60934)"
   ]
  },
  {
   "cell_type": "code",
   "execution_count": 24,
   "id": "4fba9b3d",
   "metadata": {},
   "outputs": [
    {
     "name": "stdout",
     "output_type": "stream",
     "text": [
      "KM to Mile: 99.41936\n",
      "Mile to KM 104.6071\n"
     ]
    }
   ],
   "source": [
    "# Usage of Base Class 1\n",
    "d = Distance()\n",
    "print('KM to Mile:',d.km_to_mile(160))\n",
    "print('Mile to KM', d.mi_to_km(65))"
   ]
  },
  {
   "cell_type": "code",
   "execution_count": 25,
   "id": "ef241688",
   "metadata": {},
   "outputs": [],
   "source": [
    "# Base Class 2\n",
    "class Temperature:\n",
    "    def cel_to_fer(self, cel):\n",
    "        return ((cel * 1.8) + 32)\n",
    "    \n",
    "    def fer_to_cel(self, fer):\n",
    "        return ((fer - 32) * 0.555)"
   ]
  },
  {
   "cell_type": "code",
   "execution_count": 26,
   "id": "0ffa2a68",
   "metadata": {},
   "outputs": [
    {
     "name": "stdout",
     "output_type": "stream",
     "text": [
      "Celsiuc to Fahrenheit: 212.0\n",
      "Fahrenheit to Celsiuc 99.9\n"
     ]
    }
   ],
   "source": [
    "# Usage of Base Class 2\n",
    "t = Temperature()\n",
    "print('Celsiuc to Fahrenheit:',t.cel_to_fer(100))\n",
    "print('Fahrenheit to Celsiuc', t.fer_to_cel(212))"
   ]
  },
  {
   "cell_type": "code",
   "execution_count": 27,
   "id": "fe0a5150",
   "metadata": {},
   "outputs": [],
   "source": [
    "# Create a child class to implement both Base Class 1 and 2\n",
    "class Converter(Distance, Temperature):\n",
    "    pass"
   ]
  },
  {
   "cell_type": "code",
   "execution_count": 28,
   "id": "cbff6a6c",
   "metadata": {},
   "outputs": [
    {
     "name": "stdout",
     "output_type": "stream",
     "text": [
      "KM to Mile: 99.41936\n",
      "Mile to KM 104.6071\n",
      "Celsiuc to Fahrenheit: 212.0\n",
      "Fahrenheit to Celsiuc 99.9\n"
     ]
    }
   ],
   "source": [
    "# Usage of Child class using Multiple inheritance - All implementations are provided in a single class\n",
    "c = Converter()\n",
    "print('KM to Mile:',c.km_to_mile(160))\n",
    "print('Mile to KM', c.mi_to_km(65))\n",
    "print('Celsiuc to Fahrenheit:',c.cel_to_fer(100))\n",
    "print('Fahrenheit to Celsiuc', c.fer_to_cel(212))"
   ]
  },
  {
   "cell_type": "markdown",
   "id": "da38d47e",
   "metadata": {},
   "source": [
    "### Decorator"
   ]
  },
  {
   "cell_type": "markdown",
   "id": "fe23098b",
   "metadata": {},
   "source": [
    "##### Decorator allowes us to wrap a function in order to extend the behaviour of the wrapped function without modifying the wrapped function."
   ]
  },
  {
   "cell_type": "code",
   "execution_count": 45,
   "id": "932303f2",
   "metadata": {},
   "outputs": [],
   "source": [
    "def base_function():\n",
    "    print('Base function is called')"
   ]
  },
  {
   "cell_type": "code",
   "execution_count": 46,
   "id": "c44504ff",
   "metadata": {},
   "outputs": [
    {
     "name": "stdout",
     "output_type": "stream",
     "text": [
      "Base function is called\n"
     ]
    }
   ],
   "source": [
    "base_function()"
   ]
  },
  {
   "cell_type": "code",
   "execution_count": 47,
   "id": "95090c5d",
   "metadata": {},
   "outputs": [],
   "source": [
    "def decorator_function(func):\n",
    "    \n",
    "    def inner_function():\n",
    "        print('Base Function will be executed')\n",
    "        func()\n",
    "    \n",
    "    return inner_function"
   ]
  },
  {
   "cell_type": "code",
   "execution_count": 48,
   "id": "65f297bc",
   "metadata": {},
   "outputs": [],
   "source": [
    "base_function = decorator_function(base_function)"
   ]
  },
  {
   "cell_type": "code",
   "execution_count": 50,
   "id": "0bc41569",
   "metadata": {},
   "outputs": [
    {
     "name": "stdout",
     "output_type": "stream",
     "text": [
      "Base Function will be executed\n",
      "Base function is called\n"
     ]
    }
   ],
   "source": [
    "base_function()"
   ]
  },
  {
   "cell_type": "code",
   "execution_count": null,
   "id": "ec1cd37b",
   "metadata": {},
   "outputs": [],
   "source": []
  }
 ],
 "metadata": {
  "kernelspec": {
   "display_name": "Python 3 (ipykernel)",
   "language": "python",
   "name": "python3"
  },
  "language_info": {
   "codemirror_mode": {
    "name": "ipython",
    "version": 3
   },
   "file_extension": ".py",
   "mimetype": "text/x-python",
   "name": "python",
   "nbconvert_exporter": "python",
   "pygments_lexer": "ipython3",
   "version": "3.9.7"
  }
 },
 "nbformat": 4,
 "nbformat_minor": 5
}
